{
 "cells": [
  {
   "cell_type": "code",
   "execution_count": 1,
   "metadata": {},
   "outputs": [
    {
     "name": "stderr",
     "output_type": "stream",
     "text": [
      "C:\\Users\\suraj\\anaconda3\\envs\\FasterRCNN\\lib\\site-packages\\tensorflow\\python\\framework\\dtypes.py:523: FutureWarning: Passing (type, 1) or '1type' as a synonym of type is deprecated; in a future version of numpy, it will be understood as (type, (1,)) / '(1,)type'.\n",
      "  _np_qint8 = np.dtype([(\"qint8\", np.int8, 1)])\n",
      "C:\\Users\\suraj\\anaconda3\\envs\\FasterRCNN\\lib\\site-packages\\tensorflow\\python\\framework\\dtypes.py:524: FutureWarning: Passing (type, 1) or '1type' as a synonym of type is deprecated; in a future version of numpy, it will be understood as (type, (1,)) / '(1,)type'.\n",
      "  _np_quint8 = np.dtype([(\"quint8\", np.uint8, 1)])\n",
      "C:\\Users\\suraj\\anaconda3\\envs\\FasterRCNN\\lib\\site-packages\\tensorflow\\python\\framework\\dtypes.py:525: FutureWarning: Passing (type, 1) or '1type' as a synonym of type is deprecated; in a future version of numpy, it will be understood as (type, (1,)) / '(1,)type'.\n",
      "  _np_qint16 = np.dtype([(\"qint16\", np.int16, 1)])\n",
      "C:\\Users\\suraj\\anaconda3\\envs\\FasterRCNN\\lib\\site-packages\\tensorflow\\python\\framework\\dtypes.py:526: FutureWarning: Passing (type, 1) or '1type' as a synonym of type is deprecated; in a future version of numpy, it will be understood as (type, (1,)) / '(1,)type'.\n",
      "  _np_quint16 = np.dtype([(\"quint16\", np.uint16, 1)])\n",
      "C:\\Users\\suraj\\anaconda3\\envs\\FasterRCNN\\lib\\site-packages\\tensorflow\\python\\framework\\dtypes.py:527: FutureWarning: Passing (type, 1) or '1type' as a synonym of type is deprecated; in a future version of numpy, it will be understood as (type, (1,)) / '(1,)type'.\n",
      "  _np_qint32 = np.dtype([(\"qint32\", np.int32, 1)])\n",
      "C:\\Users\\suraj\\anaconda3\\envs\\FasterRCNN\\lib\\site-packages\\tensorflow\\python\\framework\\dtypes.py:532: FutureWarning: Passing (type, 1) or '1type' as a synonym of type is deprecated; in a future version of numpy, it will be understood as (type, (1,)) / '(1,)type'.\n",
      "  np_resource = np.dtype([(\"resource\", np.ubyte, 1)])\n"
     ]
    },
    {
     "name": "stdout",
     "output_type": "stream",
     "text": [
      "WARNING:tensorflow:From G:\\vector\\ODR\\main\\model\\detect_odr.py:55: FastGFile.__init__ (from tensorflow.python.platform.gfile) is deprecated and will be removed in a future version.\n",
      "Instructions for updating:\n",
      "Use tf.gfile.GFile.\n"
     ]
    }
   ],
   "source": [
    "import time\n",
    "from main.model.detect_odr import object_detection\n",
    "from PIL import Image\n",
    "import anki_vector\n",
    "from anki_vector.util import degrees\n",
    "import anki_vector.camera\n",
    "from anki_vector.util import degrees, distance_mm, speed_mmps\n",
    "import collections"
   ]
  },
  {
   "cell_type": "code",
   "execution_count": 7,
   "metadata": {},
   "outputs": [
    {
     "name": "stderr",
     "output_type": "stream",
     "text": [
      "23:31:33.455               robot.Robot WARNING  No serial number or name provided. Automatically selecting 00908dd7\n"
     ]
    }
   ],
   "source": [
    "robot = anki_vector.Robot()\n",
    "image_name = \"detect.jpg\""
   ]
  },
  {
   "cell_type": "code",
   "execution_count": 8,
   "metadata": {},
   "outputs": [],
   "source": [
    "def get_classnames(image_path):\n",
    "    \"\"\"\n",
    "    This function calls the object detection library to detect 600 objects\n",
    "    :param image_path:\n",
    "    :return: class labels\n",
    "    \"\"\"\n",
    "    try:\n",
    "        classes = object_detection(image_path)\n",
    "        if len(classes) == 0:\n",
    "            return 'no objects'\n",
    "        class_list = []\n",
    "        for class_names in classes:\n",
    "           class_list.append(class_names)\n",
    "        return ', '.join(class_list)\n",
    "\n",
    "    except:\n",
    "        return 'no objects'\n"
   ]
  },
  {
   "cell_type": "code",
   "execution_count": 20,
   "metadata": {},
   "outputs": [],
   "source": [
    "# Create a deque to store last three distance values to deal with random noises\n",
    "deq = collections.deque([15, 15, 15],3)"
   ]
  },
  {
   "cell_type": "code",
   "execution_count": null,
   "metadata": {},
   "outputs": [
    {
     "name": "stderr",
     "output_type": "stream",
     "text": [
      "23:47:41.998               robot.Robot WARNING  No serial number or name provided. Automatically selecting 00908dd7\n",
      "23:47:42.002     connection.Connection    INFO  Connecting to 192.168.137.64:443 for Vector-Y1Y2 using C:\\Users\\suraj\\.anki_vector\\Vector-Y1Y2-00908dd7.cert\n",
      "23:47:42.526     connection.Connection    INFO  BehaviorControl control_granted_response { }\n"
     ]
    },
    {
     "name": "stdout",
     "output_type": "stream",
     "text": [
      "Distance values-Avg(DEQUE): 3.3070866141732282\n"
     ]
    }
   ],
   "source": [
    "with anki_vector.Robot() as robot:\n",
    "    robot.motors.set_head_motor(-5.0)\n",
    "    while True:\n",
    "        # Get the distance value of the sensor reading\n",
    "        distance = robot.proximity.last_sensor_reading.distance\n",
    "        avg = sum(deq)/3\n",
    "        # Avg value in \n",
    "        print('Distance values-Avg(DEQUE):',avg)\n",
    "        robot.motors.set_wheel_motors(50, 50)\n",
    "        \n",
    "        # if Vector is close to obstacle      \n",
    "        if 2 < avg <= 3.5:\n",
    "            # Stop the motors\n",
    "            robot.motors.stop_all_motors()\n",
    "            robot.behavior.say_text('obstacle detected, Wait a moment')\n",
    "            robot.camera.init_camera_feed()\n",
    "            robot.vision.enable_display_camera_feed_on_face(True)\n",
    "            robot.camera.latest_image.raw_image.save(image_name, 'JPEG')\n",
    "           \n",
    "            # Comment the Next two lines if you dont want to call object detector\n",
    "            # Also, if you dont have GPU the next two steps will make the vector slow\n",
    "            text = get_classnames(image_name)\n",
    "            robot.behavior.say_text('I can detect {}'.format(text))\n",
    "              \n",
    "             # You are free to modify the motor values.\n",
    "            robot.behavior.turn_in_place(degrees(-70))\n",
    "            robot.behavior.drive_straight(distance_mm(120), speed_mmps(80))\n",
    "            robot.behavior.turn_in_place(degrees(70))\n"
   ]
  },
  {
   "cell_type": "code",
   "execution_count": null,
   "metadata": {},
   "outputs": [],
   "source": []
  }
 ],
 "metadata": {
  "kernelspec": {
   "display_name": "Python 3",
   "language": "python",
   "name": "python3"
  },
  "language_info": {
   "codemirror_mode": {
    "name": "ipython",
    "version": 3
   },
   "file_extension": ".py",
   "mimetype": "text/x-python",
   "name": "python",
   "nbconvert_exporter": "python",
   "pygments_lexer": "ipython3",
   "version": "3.6.10"
  }
 },
 "nbformat": 4,
 "nbformat_minor": 4
}
